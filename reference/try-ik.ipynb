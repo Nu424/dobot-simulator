{
 "cells": [
  {
   "cell_type": "code",
   "execution_count": null,
   "metadata": {},
   "outputs": [
    {
     "name": "stdout",
     "output_type": "stream",
     "text": [
      "計算成功:\n",
      "A1: 0.00°, A2: 22.42°, A3: 133.50°\n",
      "J1: 0.00°, J2: 67.58°, J3: 24.08°\n"
     ]
    }
   ],
   "source": [
    "import math\n",
    "\n",
    "def dobot_arm_angle(x: float, y: float, z: float):\n",
    "    \"\"\"\n",
    "    Dobot Magicianのアーム角度を計算する関数\n",
    "\n",
    "    パラメータ:\n",
    "        x, y, z: エンドエフェクタの位置座標\n",
    "\n",
    "    戻り値:\n",
    "        (成功, A1, A2, A3, J1, J2, J3)\n",
    "        成功がTrueの場合、A1, A2, A3は主軸回転角度、アーム1・アーム2の角度（度単位）\n",
    "        J1, J2, J3はDobot表示用に変換された角度\n",
    "        成功がFalseの場合、与えた位置は到達不可能と判断されたことを意味する\n",
    "    \"\"\"\n",
    "    # 定数（各長さはDobor Magician固有の寸法）\n",
    "    L1 = 0.0    # アーム基点の高さ（Dobor Magicianでは0）\n",
    "    L2 = 135.0  # アーム1の辺の長さ\n",
    "    L3 = 147.0  # アーム2の辺の長さ\n",
    "    L4 = 60.0   # エンドエフェクタの突き出し部分（常に水平）\n",
    "\n",
    "    # エンドエフェクタ位置からX-Y平面上の距離\n",
    "    distance_xy = math.sqrt(x * x + y * y)\n",
    "    # エンドエフェクタの突き出し部分を差し引いた、実際のアーム部分の長さ\n",
    "    l = distance_xy - L4\n",
    "\n",
    "    # X-Y平面上のアーム長が十分でなければ計算不能\n",
    "    if l <= L4:\n",
    "        return False, None, None, None, None, None, None\n",
    "\n",
    "    # アーム基点からエンドエフェクタ先端までの直線距離\n",
    "    ld = math.sqrt(l**2 + (z - L1)**2)\n",
    "\n",
    "    # ldが正でかつ、アーム1とアーム2の長さの合計未満である必要がある\n",
    "    if ld <= 0 or ld >= (L2 + L3):\n",
    "        return False, None, None, None, None, None, None\n",
    "\n",
    "    # 主軸の回転角度（X-Y平面上の角度）\n",
    "    th1 = math.atan2(y, x)\n",
    "\n",
    "    # 基点から先端までの仰角（水平からの角度）\n",
    "    phi = math.atan2(z - L1, l)\n",
    "\n",
    "    # アーム1の角度計算：余弦定理を利用\n",
    "    cos_val = (ld**2 + L2**2 - L3**2) / (2.0 * ld * L2)\n",
    "    # 数値誤差対策で[-1, 1]にクランプ\n",
    "    cos_val = max(min(cos_val, 1.0), -1.0)\n",
    "    th2 = phi + math.acos(cos_val)\n",
    "\n",
    "    # アーム2のアーム1からの角度：arcsinを利用\n",
    "    sin_val = (ld**2 - L2**2 - L3**2) / (2.0 * L2 * L3)\n",
    "    sin_val = max(min(sin_val, 1.0), -1.0)\n",
    "    th3 = math.asin(sin_val) + math.pi / 2.0\n",
    "\n",
    "    # ラジアンから度へ変換\n",
    "    A1 = math.degrees(th1)\n",
    "    A2 = math.degrees(th2)\n",
    "    A3 = math.degrees(th3)\n",
    "\n",
    "    # Dobotの表示用角度に変換\n",
    "    J1 = A1\n",
    "    J2 = 90.0 - A2\n",
    "    J3 = 180.0 - A2 - A3\n",
    "\n",
    "    return True, A1, A2, A3, J1, J2, J3\n",
    "\n",
    "success, A1, A2, A3, J1, J2, J3 = dobot_arm_angle(259, 0, -8.5 )\n",
    "if success:\n",
    "    print(\"計算成功:\")\n",
    "    print(f\"A1: {A1:.2f}°, A2: {A2:.2f}°, A3: {A3:.2f}°\")\n",
    "    print(f\"J1: {J1:.2f}°, J2: {J2:.2f}°, J3: {J3:.2f}°\")\n",
    "else:\n",
    "    print(\"到達不可能な位置です。\")\n"
   ]
  }
 ],
 "metadata": {
  "kernelspec": {
   "display_name": "Python 3",
   "language": "python",
   "name": "python3"
  },
  "language_info": {
   "codemirror_mode": {
    "name": "ipython",
    "version": 3
   },
   "file_extension": ".py",
   "mimetype": "text/x-python",
   "name": "python",
   "nbconvert_exporter": "python",
   "pygments_lexer": "ipython3",
   "version": "3.10.11"
  }
 },
 "nbformat": 4,
 "nbformat_minor": 2
}
